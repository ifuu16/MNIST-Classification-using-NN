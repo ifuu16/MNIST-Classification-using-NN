{
 "cells": [
  {
   "cell_type": "code",
   "execution_count": 7,
   "id": "343b46a2",
   "metadata": {},
   "outputs": [],
   "source": [
    "#Importing relevant libraries\n",
    "import numpy as np\n",
    "import tensorflow as tf\n",
    "import tensorflow_datasets as tfds \n",
    "import matplotlib .pyplot as plt"
   ]
  },
  {
   "cell_type": "code",
   "execution_count": 8,
   "id": "1ccfa6e0",
   "metadata": {},
   "outputs": [],
   "source": [
    "#uploading mnist dataset already exisitng in tensorflow library\n",
    "mnist_data, mnist_info = tfds.load(name='mnist', with_info = True, as_supervised = True)\n",
    "\n",
    "mnist_train, mnist_test = mnist_data['train'], mnist_data['test']\n",
    "\n"
   ]
  },
  {
   "cell_type": "code",
   "execution_count": 9,
   "id": "6b5a595b",
   "metadata": {},
   "outputs": [
    {
     "data": {
      "image/png": "[encoded data removed]",
      "text/plain": [
       "<Figure size 432x288 with 1 Axes>"
      ]
     },
     "metadata": {
      "needs_background": "light"
     },
     "output_type": "display_data"
    },
    {
     "data": {
      "image/png": "[encoded data removed]",
      "text/plain": [
       "<Figure size 432x288 with 1 Axes>"
      ]
     },
     "metadata": {
      "needs_background": "light"
     },
     "output_type": "display_data"
    }
   ],
   "source": [
    "# Get and display the first n images from the training dataset. n=2\n",
    "num_images_to_display = 2\n",
    "for image, label in mnist_train.take(num_images_to_display):\n",
    "    sample_image = image.numpy().squeeze()  # Convert to numpy array and remove singleton dimensions\n",
    "    sample_label = label.numpy()\n",
    "\n",
    "    # Display the image using matplotlib\n",
    "    plt.imshow(sample_image, cmap='gray')\n",
    "    plt.title(f'Label: {sample_label}')\n",
    "    plt.axis('off')  # Turn off axis\n",
    "    plt.show()"
   ]
  },
  {
   "cell_type": "code",
   "execution_count": 10,
   "id": "34881a83",
   "metadata": {},
   "outputs": [],
   "source": [
    "\n",
    "#creating the number of validation dataset from the training dataset\n",
    "num_validation_samples = 0.1*mnist_info.splits['train'].num_examples\n",
    "\n",
    "#convert number of the validation sample to an integer to prevent potential issue\n",
    "num_validation_samples = tf.cast(num_validation_samples, tf.int64)\n",
    "\n",
    "#get the number data point in our  test samples\n",
    "num_test_samples = mnist_info.splits['test'].num_examples\n",
    "num_test_samples = tf.cast(num_test_samples, tf.int64)\n"
   ]
  },
  {
   "cell_type": "code",
   "execution_count": 11,
   "id": "cb545d37",
   "metadata": {},
   "outputs": [],
   "source": [
    "#scaling the training data \n",
    "def scale(image,label):\n",
    "    image = tf.cast(image, tf.float32)\n",
    "    image/= 255.\n",
    "    return image, label\n",
    "\n",
    "scaled_train_and_validation_data = mnist_train.map(scale)\n",
    "\n",
    "#using the scale function to scale the test data\n",
    "test_data = mnist_test.map(scale)\n",
    "\n",
    "#shuffle the input in batches\n",
    "\n",
    "BUFFER_SIZE = 10000\n",
    "\n",
    "shuffle_train_and_validation_data = scaled_train_and_validation_data.shuffle(BUFFER_SIZE)\n",
    "#create the validation data\n",
    "validation_data = shuffle_train_and_validation_data.take(num_validation_samples)\n",
    "\n",
    "#create the train data\n",
    "train_data = shuffle_train_and_validation_data.skip(num_validation_samples)\n",
    "\n",
    "#batching the training data\n",
    "\n",
    "BATCH_SIZE = 100\n",
    "\n",
    "train_data = train_data.batch(BATCH_SIZE)\n",
    "\n",
    "#No need to batch the validation and test data(we are not backpropagating on them ). Hence we will take all at once]\n",
    "\n",
    "validation_data = validation_data.batch(num_validation_samples)\n",
    "\n",
    "test_data = test_data.batch(num_test_samples)\n",
    "\n",
    "validation_inputs, validation_targets = next(iter(validation_data))\n",
    "\n",
    "\n"
   ]
  },
  {
   "cell_type": "code",
   "execution_count": 12,
   "id": "d801c8d2",
   "metadata": {},
   "outputs": [],
   "source": [
    "#Buildimg the model\n",
    "\n",
    "input_size = 784\n",
    "output_size = 10\n",
    "hidden_layer_size = 200\n",
    "\n",
    "\n",
    "model = tf.keras.Sequential([\n",
    "        tf.keras.layers.Flatten(input_shape=(28,28,1)),\n",
    "        tf.keras.layers.Dense(hidden_layer_size, activation='relu'),\n",
    "        tf.keras.layers.Dense(hidden_layer_size, activation='relu'),\n",
    "        tf.keras.layers.Dense(hidden_layer_size, activation='relu'),\n",
    "       \n",
    "        tf.keras.layers.Dense(output_size, activation='softmax')\n",
    "        ])"
   ]
  },
  {
   "cell_type": "code",
   "execution_count": 13,
   "id": "e63344da",
   "metadata": {},
   "outputs": [],
   "source": [
    "# Choose the Optimizer and the loss function\n",
    "\n",
    "model.compile(optimizer='adam', loss='sparse_categorical_crossentropy', metrics=['accuracy'])"
   ]
  },
  {
   "cell_type": "code",
   "execution_count": 14,
   "id": "2be7a2cd",
   "metadata": {},
   "outputs": [
    {
     "name": "stdout",
     "output_type": "stream",
     "text": [
      "Epoch 1/5\n",
      "540/540 - 7s - loss: 0.2638 - accuracy: 0.9229 - val_loss: 0.1355 - val_accuracy: 0.9620 - 7s/epoch - 13ms/step\n",
      "Epoch 2/5\n",
      "540/540 - 4s - loss: 0.1040 - accuracy: 0.9679 - val_loss: 0.0877 - val_accuracy: 0.9737 - 4s/epoch - 7ms/step\n",
      "Epoch 3/5\n",
      "540/540 - 4s - loss: 0.0710 - accuracy: 0.9782 - val_loss: 0.0789 - val_accuracy: 0.9773 - 4s/epoch - 8ms/step\n",
      "Epoch 4/5\n",
      "540/540 - 4s - loss: 0.0521 - accuracy: 0.9833 - val_loss: 0.0615 - val_accuracy: 0.9818 - 4s/epoch - 8ms/step\n",
      "Epoch 5/5\n",
      "540/540 - 4s - loss: 0.0420 - accuracy: 0.9863 - val_loss: 0.0596 - val_accuracy: 0.9825 - 4s/epoch - 8ms/step\n"
     ]
    },
    {
     "data": {
      "text/plain": [
       "<keras.callbacks.History at 0x1b455045550>"
      ]
     },
     "execution_count": 14,
     "metadata": {},
     "output_type": "execute_result"
    }
   ],
   "source": [
    "#number of epoch\n",
    "NUM_EPOCH = 5\n",
    "\n",
    "model.fit(train_data, epochs = NUM_EPOCH,validation_data=(validation_inputs, validation_targets), verbose=2)"
   ]
  },
  {
   "cell_type": "markdown",
   "id": "c3fb5653",
   "metadata": {},
   "source": [
    "# Confusion matrix"
   ]
  },
  {
   "cell_type": "code",
   "execution_count": 15,
   "id": "c64149be",
   "metadata": {},
   "outputs": [
    {
     "ename": "NameError",
     "evalue": "name 'predicted_labels' is not defined",
     "output_type": "error",
     "traceback": [
      "\u001b[1;31m---------------------------------------------------------------------------\u001b[0m",
      "\u001b[1;31mNameError\u001b[0m                                 Traceback (most recent call last)",
      "Input \u001b[1;32mIn [15]\u001b[0m, in \u001b[0;36m<cell line: 16>\u001b[1;34m()\u001b[0m\n\u001b[0;32m      2\u001b[0m \u001b[38;5;28;01mimport\u001b[39;00m \u001b[38;5;21;01mseaborn\u001b[39;00m \u001b[38;5;28;01mas\u001b[39;00m \u001b[38;5;21;01msns\u001b[39;00m\n\u001b[0;32m      4\u001b[0m \u001b[38;5;66;03m# # Load your trained model (replace this with your own model)\u001b[39;00m\n\u001b[0;32m      5\u001b[0m \u001b[38;5;66;03m# model = tf.keras.models.load_model('model')\u001b[39;00m\n\u001b[0;32m      6\u001b[0m \n\u001b[1;32m   (...)\u001b[0m\n\u001b[0;32m     14\u001b[0m \n\u001b[0;32m     15\u001b[0m \u001b[38;5;66;03m# Compute the confusion matrix\u001b[39;00m\n\u001b[1;32m---> 16\u001b[0m confusion \u001b[38;5;241m=\u001b[39m confusion_matrix(validation_targets, \u001b[43mpredicted_labels\u001b[49m)\n\u001b[0;32m     18\u001b[0m \u001b[38;5;66;03m# Visualize the confusion matrix as a heatmap\u001b[39;00m\n\u001b[0;32m     19\u001b[0m plt\u001b[38;5;241m.\u001b[39mfigure(figsize\u001b[38;5;241m=\u001b[39m(\u001b[38;5;241m10\u001b[39m, \u001b[38;5;241m8\u001b[39m))\n",
      "\u001b[1;31mNameError\u001b[0m: name 'predicted_labels' is not defined"
     ]
    }
   ],
   "source": [
    "from sklearn.metrics import confusion_matrix\n",
    "import seaborn as sns\n",
    "\n",
    "\n",
    "\n",
    "# Make predictions using the model\n",
    "predicted_labels = model.predict(validation_targets)\n",
    "predicted_labels = np.argmax(predicted_labels, axis=1)  # Convert probabilities to class labels\n",
    "\n",
    "# Compute the confusion matrix\n",
    "confusion = tf.math.confusion_matrix(validation_inputs, validation_targets)\n",
    "\n",
    "# Visualize the confusion matrix as a heatmap\n",
    "plt.figure(figsize=(10, 8))\n",
    "sns.heatmap(confusion, annot=True, fmt='d', cmap='Blues', cbar=False)\n",
    "plt.xlabel('Predicted')\n",
    "plt.ylabel('True')\n",
    "plt.title('Confusion Matrix')\n",
    "plt.show()\n"
   ]
  },
  {
   "cell_type": "code",
   "execution_count": 6,
   "id": "972fa4da",
   "metadata": {},
   "outputs": [
    {
     "name": "stdout",
     "output_type": "stream",
     "text": [
      "1/1 [==============================] - 1s 571ms/step - loss: 0.0710 - accuracy: 0.9779\n",
      "Test loss: 0.07. Test accuracy:97.79%\n"
     ]
    }
   ],
   "source": [
    "#Test the Model\n",
    "\n",
    "# test_loss, test_accuracy = model.evaluate(test_data)\n",
    "\n",
    "# print('Test loss: {0:.2f}. Test accuracy:{1:.2f}%'.format(test_loss, test_accuracy*100.))"
   ]
  },
  {
   "cell_type": "markdown",
   "id": "f68339b3",
   "metadata": {},
   "source": [
    "# Confusion matrix"
   ]
  },
  {
   "cell_type": "code",
   "execution_count": null,
   "id": "0f438184",
   "metadata": {},
   "outputs": [],
   "source": [
    "GREETINGS: Good morning everyone ? How're you?\n",
    "\n",
    "WARM -UP: How is the weather? What day is it today?\n",
    "\n",
    "3-4: My Activity Report (Pg 50).\n",
    "Small talk: How did you spend your summer vacation? power point presentation\n",
    "\n",
    "New Words: report, tournament, corner, beginning, ending, they'll, kick(s)\n",
    "Step 3:  Student wrote a short report about their school activities.\n",
    "\n",
    "2-2: unit 3 - Read and Think 2(Pg 42)\n",
    "Small talk: How did you spend your summer vacation? power point presentation\n",
    "\n",
    "Key Sentence: It is important to use AI effectively.\n",
    "\n",
    "New words: misunderstand, meaning, Moreover, writer, feeling, feelings, catch, human(s), necessary, effectively, relationship (s), connect, everything, reasons, between, through, bridge.\n",
    "Key Question: What did Asami ask Ms. Tanaka?\n",
    "\n",
    "Practice: \n",
    "Round 1\n",
    "Round 2 \n",
    "Round 3\n",
    "\n",
    "Grammar for Communication 3: I want your picture.\n",
    "I want to take your picture.\n",
    "Let's Try!\n",
    "\n",
    "1-3 : \"All about Me\"  Poster (Pg 54-55).\n",
    "\n",
    "Small talk: How did you spend your summer vacation? power point presentation\n",
    "New words: poster, starter, tell, comic, movie, other, age, stadium.\n",
    "Step 1: \n",
    "Step 2:\n",
    "Step 3:\n",
    "Step 4\n",
    "\n",
    "\n",
    "2-1:  unit 3 - Read and Think 2(Pg 42)\n",
    "Small talk: How did you spend your summer vacation? power point presentation\n",
    "\n",
    "Key Sentence: It is important to use AI effectively.\n",
    "\n",
    "New words: misunderstand, meaning, Moreover, writer, feeling, feelings, catch, human(s), necessary, effectively, relationship (s), connect, everything, reasons, between, through, bridge.\n",
    "\n",
    "Key Question: What did Asami ask Ms. Tanaka?\n",
    "\n",
    "\n",
    "1-1: Unit 5 - Enjoy Communication part 3(pg 52)\n",
    "Small talk: How did you spend your summer vacation? power point presentation\n",
    "\n",
    "Key Sentence: I went to the summer festival yesterday.\n"
   ]
  }
 ],
 "metadata": {
  "kernelspec": {
   "display_name": "Python 3 (ipykernel)",
   "language": "python",
   "name": "python3"
  },
  "language_info": {
   "codemirror_mode": {
    "name": "ipython",
    "version": 3
   },
   "file_extension": ".py",
   "mimetype": "text/x-python",
   "name": "python",
   "nbconvert_exporter": "python",
   "pygments_lexer": "ipython3",
   "version": "3.9.12"
  }
 },
 "nbformat": 4,
 "nbformat_minor": 5
}
