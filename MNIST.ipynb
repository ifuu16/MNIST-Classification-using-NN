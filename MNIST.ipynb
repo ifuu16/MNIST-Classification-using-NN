{
 "cells": [
  {
   "cell_type": "code",
   "execution_count": 50,
   "id": "343b46a2",
   "metadata": {},
   "outputs": [],
   "source": [
    "#Importing relevant libraries\n",
    "import numpy as np\n",
    "import tensorflow as tf\n",
    "import tensorflow_datasets as tfds "
   ]
  },
  {
   "cell_type": "code",
   "execution_count": 51,
   "id": "cb545d37",
   "metadata": {},
   "outputs": [],
   "source": [
    "#uploading mnist dataset already exisitng in tensorflow library\n",
    "mnist_data, mnist_info = tfds.load(name='mnist', with_info = True, as_supervised = True)\n",
    "\n",
    "mnist_train, mnist_test = mnist_data['train'], mnist_data['test']\n",
    "\n",
    "#creating the number of validation dataset from the training dataset\n",
    "num_validation_samples = 0.1*mnist_info.splits['train'].num_examples\n",
    "\n",
    "#convert number of the validation sample to an integer to prevent potential issue\n",
    "num_validation_samples = tf.cast(num_validation_samples, tf.int64)\n",
    "\n",
    "#get the number data point in our  test samples\n",
    "num_test_samples = mnist_info.splits['test'].num_examples\n",
    "num_test_samples = tf.cast(num_test_samples, tf.int64)\n",
    "\n",
    "\n",
    "#scaling the training data \n",
    "def scale(image,label):\n",
    "    image = tf.cast(image, tf.float32)\n",
    "    image/= 255.\n",
    "    return image, label\n",
    "\n",
    "scaled_train_and_validation_data = mnist_train.map(scale)\n",
    "\n",
    "#using the scale function to scale the test data\n",
    "test_data = mnist_test.map(scale)\n",
    "\n",
    "#shuffle the input in batches\n",
    "\n",
    "BUFFER_SIZE = 10000\n",
    "\n",
    "shuffle_train_and_validation_data = scaled_train_and_validation_data.shuffle(BUFFER_SIZE)\n",
    "#create the validation data\n",
    "validation_data = shuffle_train_and_validation_data.take(num_validation_samples)\n",
    "\n",
    "#create the train data\n",
    "train_data = shuffle_train_and_validation_data.skip(num_validation_samples)\n",
    "\n",
    "#batching the training data\n",
    "\n",
    "BATCH_SIZE = 100\n",
    "\n",
    "train_data = train_data.batch(BATCH_SIZE)\n",
    "\n",
    "#No need to batch the validation and test data(we are not backpropagating on them ). Hence we will take all at once]\n",
    "\n",
    "validation_data = validation_data.batch(num_validation_samples)\n",
    "\n",
    "test_data = test_data.batch(num_test_samples)\n",
    "\n",
    "validation_inputs, validation_targets = next(iter(validation_data))\n"
   ]
  },
  {
   "cell_type": "code",
   "execution_count": 52,
   "id": "d801c8d2",
   "metadata": {},
   "outputs": [],
   "source": [
    "#Buildimg the model\n",
    "\n",
    "input_size = 784\n",
    "output_size = 10\n",
    "hidden_layer_size = 200\n",
    "\n",
    "\n",
    "model = tf.keras.Sequential([\n",
    "        tf.keras.layers.Flatten(input_shape=(28,28,1)),\n",
    "        tf.keras.layers.Dense(hidden_layer_size, activation='relu'),\n",
    "        tf.keras.layers.Dense(hidden_layer_size, activation='relu'),\n",
    "        tf.keras.layers.Dense(hidden_layer_size, activation='relu'),\n",
    "       \n",
    "        tf.keras.layers.Dense(output_size, activation='softmax')\n",
    "        ])"
   ]
  },
  {
   "cell_type": "code",
   "execution_count": 53,
   "id": "e63344da",
   "metadata": {},
   "outputs": [],
   "source": [
    "# Choose the Optimizer and the loss function\n",
    "\n",
    "model.compile(optimizer='adam', loss='sparse_categorical_crossentropy', metrics=['accuracy'])"
   ]
  },
  {
   "cell_type": "code",
   "execution_count": 54,
   "id": "2be7a2cd",
   "metadata": {},
   "outputs": [
    {
     "name": "stdout",
     "output_type": "stream",
     "text": [
      "Epoch 1/5\n",
      "540/540 - 7s - loss: 0.2612 - accuracy: 0.9231 - val_loss: 0.1377 - val_accuracy: 0.9598 - 7s/epoch - 14ms/step\n",
      "Epoch 2/5\n",
      "540/540 - 9s - loss: 0.1010 - accuracy: 0.9695 - val_loss: 0.0867 - val_accuracy: 0.9748 - 9s/epoch - 17ms/step\n",
      "Epoch 3/5\n",
      "540/540 - 10s - loss: 0.0695 - accuracy: 0.9789 - val_loss: 0.0696 - val_accuracy: 0.9773 - 10s/epoch - 18ms/step\n",
      "Epoch 4/5\n",
      "540/540 - 9s - loss: 0.0543 - accuracy: 0.9824 - val_loss: 0.0650 - val_accuracy: 0.9792 - 9s/epoch - 16ms/step\n",
      "Epoch 5/5\n",
      "540/540 - 10s - loss: 0.0382 - accuracy: 0.9881 - val_loss: 0.0437 - val_accuracy: 0.9852 - 10s/epoch - 18ms/step\n"
     ]
    },
    {
     "data": {
      "text/plain": [
       "<keras.callbacks.History at 0x21d801b0040>"
      ]
     },
     "execution_count": 54,
     "metadata": {},
     "output_type": "execute_result"
    }
   ],
   "source": [
    "#number of epoch\n",
    "NUM_EPOCH = 5\n",
    "\n",
    "model.fit(train_data, epochs = NUM_EPOCH,validation_data=(validation_inputs, validation_targets), verbose=2)"
   ]
  },
  {
   "cell_type": "code",
   "execution_count": 55,
   "id": "972fa4da",
   "metadata": {},
   "outputs": [
    {
     "name": "stdout",
     "output_type": "stream",
     "text": [
      "1/1 [==============================] - 1s 730ms/step - loss: 0.0739 - accuracy: 0.9788\n",
      "Test loss: 0.07. Test accuracy:97.88%\n"
     ]
    }
   ],
   "source": [
    "#Test the Model\n",
    "\n",
    "test_loss, test_accuracy = model.evaluate(test_data)\n",
    "\n",
    "print('Test loss: {0:.2f}. Test accuracy:{1:.2f}%'.format(test_loss, test_accuracy*100.))"
   ]
  },
  {
   "cell_type": "code",
   "execution_count": null,
   "id": "92b76466",
   "metadata": {},
   "outputs": [],
   "source": []
  }
 ],
 "metadata": {
  "kernelspec": {
   "display_name": "Python 3 (ipykernel)",
   "language": "python",
   "name": "python3"
  },
  "language_info": {
   "codemirror_mode": {
    "name": "ipython",
    "version": 3
   },
   "file_extension": ".py",
   "mimetype": "text/x-python",
   "name": "python",
   "nbconvert_exporter": "python",
   "pygments_lexer": "ipython3",
   "version": "3.9.12"
  }
 },
 "nbformat": 4,
 "nbformat_minor": 5
}
